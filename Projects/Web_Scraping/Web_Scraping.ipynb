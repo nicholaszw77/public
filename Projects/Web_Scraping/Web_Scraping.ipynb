{
 "cells": [
  {
   "cell_type": "code",
   "execution_count": 1,
   "outputs": [
    {
     "name": "stdout",
     "output_type": "stream",
     "text": [
      "Done\n"
     ]
    }
   ],
   "source": [
    "from selenium.webdriver.common.by import By\n",
    "from selenium import webdriver\n",
    "from bs4 import BeautifulSoup\n",
    "import pyautogui\n",
    "import time\n",
    "import pyperclip  # copy and paste\n",
    "import pandas as pd\n",
    "\n",
    "\"\"\"\n",
    "The purpose of this program is to run webscraping to extract the quotes, author names and tags from every page in the website\n",
    "https://quotes.toscrape.com/\n",
    "\n",
    "Read more on\n",
    "https://selenium-python.readthedocs.io/locating-elements.html\n",
    "\"\"\"\n",
    "\n",
    "def extractAuthor(url):\n",
    "    ## this function is to extract the \n",
    "    driver = webdriver.Chrome()\n",
    "    driver.get(url)\n",
    "    \n",
    "    page_source = driver.page_source # Get page source\n",
    "    \n",
    "    # Parse the page source with BeautifulSoup\n",
    "    soup = BeautifulSoup(page_source, 'html.parser')\n",
    "        \n",
    "    authors = []\n",
    "    quotes = []\n",
    "    tags = []\n",
    "\n",
    "    while True:\n",
    "        # Find the elements\n",
    "        author_elements = soup.find_all(\"small\", {\"class\": \"author\"})\n",
    "        quote_elements = soup.find_all(\"span\", {\"class\": \"text\"})\n",
    "        tag_elements = soup.find_all(\"div\", {\"class\": \"tags\"})\n",
    "        \n",
    "        \n",
    "        # Extracting tags within content\n",
    "        for content in tag_elements:\n",
    "            # for each tag_list data extracted, convert all tags to a proper format \n",
    "            tag_texts = [tag.text for tag in content.find_all(\"a\", {\"class\": \"tag\"})]\n",
    "            tag_string = ', '.join(tag_texts)\n",
    "            tags.append(tag_string)\n",
    "            \n",
    "        # Extracting authors\n",
    "        for content in author_elements:\n",
    "            authors.append(content.text.strip())\n",
    "    \n",
    "        # Extracting quotes\n",
    "        for content in quote_elements:\n",
    "            quotes.append(content.text.replace(\"“\", \"\").replace(\"”\", \"\").strip())\n",
    "        \n",
    "        # go to next page\n",
    "        try:\n",
    "            button = driver.find_element(By.CSS_SELECTOR, \"nav li.next a\")\n",
    "            button.click()\n",
    "        except:\n",
    "            break\n",
    "\n",
    "\n",
    "    # Create and save data to CSV file\n",
    "    data = {\"authors\": authors, \"quotes\": quotes, \"tags\": tags}\n",
    "    df = pd.DataFrame(data)\n",
    "    df.to_csv(\"data_file.csv\", index=False)\n",
    "    print(\"Done\")\n",
    "\n",
    "\n",
    "# run program    \n",
    "link1 = \"https://quotes.toscrape.com/\"\n",
    "extractAuthor(link1)\n",
    "\n",
    "\n",
    "\n"
   ],
   "metadata": {
    "collapsed": false,
    "ExecuteTime": {
     "end_time": "2023-09-25T12:51:15.086826800Z",
     "start_time": "2023-09-25T12:51:04.157828800Z"
    }
   },
   "id": "fe2091fa9f0ae926"
  }
 ],
 "metadata": {
  "kernelspec": {
   "display_name": "Python 3",
   "language": "python",
   "name": "python3"
  },
  "language_info": {
   "codemirror_mode": {
    "name": "ipython",
    "version": 2
   },
   "file_extension": ".py",
   "mimetype": "text/x-python",
   "name": "python",
   "nbconvert_exporter": "python",
   "pygments_lexer": "ipython2",
   "version": "2.7.6"
  }
 },
 "nbformat": 4,
 "nbformat_minor": 5
}
